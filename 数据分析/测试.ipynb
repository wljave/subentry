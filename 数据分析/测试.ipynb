{
 "cells": [
  {
   "cell_type": "code",
   "execution_count": 1,
   "outputs": [
    {
     "name": "stdout",
     "output_type": "stream",
     "text": [
      "['奶茶']→['可乐'] 0.25 1.0 1.0\n",
      "['汉堡']→['可乐'] 0.5 1.0 1.0\n",
      "['可乐']→['薯条'] 0.75 0.75 1.0\n",
      "['薯条']→['可乐'] 0.75 1.0 1.0\n",
      "['奶茶']→['薯条'] 0.25 1.0 1.333\n",
      "['奶茶']→['薯条', '可乐'] 0.25 1.0 1.333\n",
      "['奶茶', '可乐']→['薯条'] 0.25 1.0 1.333\n",
      "['薯条', '奶茶']→['可乐'] 0.25 1.0 1.0\n",
      "['薯条', '汉堡']→['可乐'] 0.25 1.0 1.0\n"
     ]
    }
   ],
   "source": [
    "# import pandas as pd\n",
    "# # 创建 Series 对象\n",
    "# players = pd.Series(['梅西', '罗本', 'C罗'])\n",
    "# # 查看 players\n",
    "# players\n",
    "#\n",
    "# mask_data = pd.read_csv('./工作/mask_data.csv', encoding='utf-8')\n",
    "# mask_data\n",
    "\n",
    "# 导入 apyori 模块下的 apriori 函数\n",
    "from apyori import apriori\n",
    "# 创建4条快餐交易数据\n",
    "orders = [['薯条', '可乐'], ['薯条', '可乐', '奶茶'], ['汉堡', '薯条', '可乐'], ['汉堡', '可乐']]\n",
    "# 创建变量 results，调用 apriori 函数，传入参数：orders，最小支持度为 0.2，最小置信度为 0.7\n",
    "results = apriori(orders, min_support=0.2, min_confidence=0.7)\n",
    "# 调用 apriori 函数\n",
    "results = apriori(orders, min_support=0.2, min_confidence=0.7)\n",
    "# 遍历结果数据\n",
    "for result in results:\n",
    "    # 获取支持度,并保留3位小数\n",
    "    support = round(result.support, 3)\n",
    "\n",
    "    # 遍历ordered_statistics对象\n",
    "    for rule in result.ordered_statistics:\n",
    "        # 获取前件和后件并转成列表\n",
    "        head_set = list(rule.items_base)\n",
    "        tail_set = list(rule.items_add)\n",
    "\n",
    "        # 跳过前件为空的数据\n",
    "        if not head_set:\n",
    "                continue\n",
    "\n",
    "        # 将前件、后件拼接成关联规则的形式\n",
    "        related_catogory = str(head_set)+'→'+str(tail_set)\n",
    "\n",
    "        # 提取置信度，并保留3位小数\n",
    "        confidence = round(rule.confidence, 3)\n",
    "        # 提取提升度，并保留3位小数\n",
    "        lift = round(rule.lift, 3)\n",
    "\n",
    "        # 查看强关联规则，支持度，置信度，提升度\n",
    "        print(related_catogory, support, confidence, lift)\n",
    "\n",
    "import warnings\n",
    "# def fxn():\n",
    "#     warnings.warn(\"deprecated\", DeprecationWarning)\n",
    "# with warnings.catch_warnings():\n",
    "#     warnings.simplefilter(\"ignore\")\n",
    "#     fxn()\n",
    "# 关闭警告显示\n",
    "warnings.filterwarnings('ignore')"
   ],
   "metadata": {
    "collapsed": false,
    "pycharm": {
     "name": "#%%\n"
    }
   }
  },
  {
   "cell_type": "code",
   "execution_count": null,
   "outputs": [],
   "source": [],
   "metadata": {
    "collapsed": false,
    "pycharm": {
     "name": "#%%\n"
    }
   }
  }
 ],
 "metadata": {
  "kernelspec": {
   "display_name": "Python 3",
   "language": "python",
   "name": "python3"
  },
  "language_info": {
   "codemirror_mode": {
    "name": "ipython",
    "version": 2
   },
   "file_extension": ".py",
   "mimetype": "text/x-python",
   "name": "python",
   "nbconvert_exporter": "python",
   "pygments_lexer": "ipython2",
   "version": "2.7.6"
  }
 },
 "nbformat": 4,
 "nbformat_minor": 0
}